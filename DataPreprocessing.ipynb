{
 "cells": [
  {
   "cell_type": "markdown",
   "id": "a26d848a-af9d-407b-a3fc-1ecab91e04bc",
   "metadata": {},
   "source": [
    "# Import The Libraries"
   ]
  },
  {
   "cell_type": "code",
   "execution_count": 58,
   "id": "838b3a0e-05af-4ca3-bcf1-48a9974d7d35",
   "metadata": {},
   "outputs": [],
   "source": [
    "import pandas as pd\n",
    "import pyodbc\n",
    "from dotenv import load_dotenv\n",
    "import os"
   ]
  },
  {
   "cell_type": "markdown",
   "id": "89c174ef-b464-4a9b-8244-ae322233e515",
   "metadata": {},
   "source": [
    "## Connect into Sql Server and PySpark"
   ]
  },
  {
   "cell_type": "code",
   "execution_count": 85,
   "id": "7ba704ad-6ad7-4311-b905-363f3b25ca48",
   "metadata": {},
   "outputs": [
    {
     "name": "stdout",
     "output_type": "stream",
     "text": [
      "Success\n"
     ]
    }
   ],
   "source": [
    "load_dotenv()\n",
    "\n",
    "# Load the configuration\n",
    "driver=os.getenv('DB_DRIVER')\n",
    "server=os.getenv('DB_SERVER')\n",
    "database=os.getenv('DB_NAME')\n",
    "user=os.getenv('DB_USERNAME')\n",
    "password=os.getenv('DB_PASSWORD')\n",
    "path=os.getenv('HDFS_PATH')\n",
    "\n",
    "try:\n",
    "    conn = pyodbc.connect(f'''\n",
    "                          DRIVER={driver};\n",
    "                          SERVER={server},1434;\n",
    "                          DATABASE={database};\n",
    "                          UID={user};\n",
    "                          PWD={password};\n",
    "                          TrustServerCertificate=yes;\n",
    "                          ''')\n",
    "    cursor = conn.cursor()\n",
    "    print(\"Success\")\n",
    "    cursor.close()\n",
    "except Exception as e:\n",
    "    print(f'Error Occured: {e}')"
   ]
  },
  {
   "cell_type": "code",
   "execution_count": 60,
   "id": "047f4c34-8614-472d-b73c-41858ea99abd",
   "metadata": {},
   "outputs": [],
   "source": [
    "from pyspark.sql import SparkSession\n",
    "spark = SparkSession.builder \\\n",
    "    .appName(\"Medalion Project\") \\\n",
    "    .config(\"spark.jars\", \"sqljdbc_12.8/enu/jars/mssql-jdbc-12.8.1.jre8.jar\") \\\n",
    "    .config(\"spark.hadoop.fs.defaultFS\", \"hdfs://localhost:9000\") \\\n",
    "    .config(\"spark.hadoop.yarn.resourcemanager.address\", \"localhost:8032\") \\\n",
    "    .getOrCreate()\n",
    "\n",
    "# Sql Server\n",
    "# jdbc_url = f'jdbc:sqlserver://{server}:1434;databaseName={database};encrypt=true;trustServerCertificate=true;'\n",
    "jdbc_url = (\n",
    "    f'jdbc:sqlserver://{server}:1434;'\n",
    "    f'databaseName={database};'\n",
    "    f'encrypt=true;'\n",
    "    f'trustServerCertificate=true;'\n",
    ")\n",
    "connection_properties = {\n",
    "    \"user\": user,\n",
    "    \"password\": password,\n",
    "    \"driver\": \"com.microsoft.sqlserver.jdbc.SQLServerDriver\"\n",
    "}"
   ]
  },
  {
   "cell_type": "markdown",
   "id": "d09bf24d-91bd-4211-9aba-a462f533defb",
   "metadata": {
    "jp-MarkdownHeadingCollapsed": true
   },
   "source": [
    "### Bronze"
   ]
  },
  {
   "cell_type": "code",
   "execution_count": 61,
   "id": "5d855c62-ed0e-4638-a84f-a5fa4ef17be2",
   "metadata": {},
   "outputs": [],
   "source": [
    "# Store raw data into bronze\n",
    "df_bronze = spark.read.jdbc(\n",
    "    url=jdbc_url, \n",
    "    table=\"Sales.Store\", \n",
    "    properties=connection_properties\n",
    ")\n",
    "try:\n",
    "    df_bronze.write \\\n",
    "        .option('header', True) \\\n",
    "        .mode('overwrite') \\\n",
    "        .csv(f'hdfs://Arsylia:9000/{path}/store.csv')\n",
    "except Exception as e:\n",
    "    print(f'Error Occured:\\n {e}')"
   ]
  },
  {
   "cell_type": "code",
   "execution_count": 62,
   "id": "72a0b18d-3c63-4929-9d94-7e4fccbd5466",
   "metadata": {},
   "outputs": [
    {
     "name": "stdout",
     "output_type": "stream",
     "text": [
      "+----------------+--------------------+-------------+--------------------+--------------------+--------------------+\n",
      "|BusinessEntityID|                Name|SalesPersonID|        Demographics|             rowguid|        ModifiedDate|\n",
      "+----------------+--------------------+-------------+--------------------+--------------------+--------------------+\n",
      "|             292|Next-Door Bike Store|          279|<StoreSurvey xmln...|A22517E3-848D-4EB...|2014-09-12 11:15:...|\n",
      "|             294|Professional Sale...|          276|<StoreSurvey xmln...|B50CA50B-C601-4A1...|2014-09-12 11:15:...|\n",
      "|             296|      Riders Company|          277|<StoreSurvey xmln...|337C3688-1339-4E1...|2014-09-12 11:15:...|\n",
      "|             298|  The Bike Mechanics|          275|<StoreSurvey xmln...|7894F278-F0C8-4D1...|2014-09-12 11:15:...|\n",
      "|             300|   Nationwide Supply|          286|<StoreSurvey xmln...|C3FC9705-A8C4-4F3...|2014-09-12 11:15:...|\n",
      "|             302|Area Bike Accesso...|          281|<StoreSurvey xmln...|368BE6DD-30E5-49B...|2014-09-12 11:15:...|\n",
      "|             304|Bicycle Accessori...|          283|<StoreSurvey xmln...|35F40636-5105-49D...|2014-09-12 11:15:...|\n",
      "|             306|Clamps & Brackets...|          275|<StoreSurvey xmln...|64D06BFC-D060-405...|2014-09-12 11:15:...|\n",
      "|             308|Valley Bicycle Sp...|          277|<StoreSurvey xmln...|59386B0C-652E-466...|2014-09-12 11:15:...|\n",
      "|             310|   New Bikes Company|          279|<StoreSurvey xmln...|47E4B6BD-5CD1-45A...|2014-09-12 11:15:...|\n",
      "|             312|Vinyl and Plastic...|          282|<StoreSurvey xmln...|DC610525-E373-49B...|2014-09-12 11:15:...|\n",
      "|             314|Top of the Line B...|          288|<StoreSurvey xmln...|E290E93F-A980-4BA...|2014-09-12 11:15:...|\n",
      "|             316|  Fun Toys and Bikes|          281|<StoreSurvey xmln...|6CDCF941-4192-49C...|2014-09-12 11:15:...|\n",
      "|             318|         Great Bikes|          283|<StoreSurvey xmln...|956FBC35-5E0D-417...|2014-09-12 11:15:...|\n",
      "|             320|Metropolitan Sale...|          275|<StoreSurvey xmln...|0CB4FEF2-5047-40F...|2014-09-12 11:15:...|\n",
      "|             322|   Irregulars Outlet|          288|<StoreSurvey xmln...|CDE66279-83D8-434...|2014-09-12 11:15:...|\n",
      "|             324|    Valley Toy Store|          282|<StoreSurvey xmln...|6A1BEA56-DCB7-45C...|2014-09-12 11:15:...|\n",
      "|             326|Worthwhile Activi...|          279|<StoreSurvey xmln...|BAD63717-99BD-458...|2014-09-12 11:15:...|\n",
      "|             328|       Purchase Mart|          275|<StoreSurvey xmln...|A3140349-57A3-46A...|2014-09-12 11:15:...|\n",
      "|             330|Major Sport Suppl...|          283|<StoreSurvey xmln...|3B5F8572-43B0-42F...|2014-09-12 11:15:...|\n",
      "+----------------+--------------------+-------------+--------------------+--------------------+--------------------+\n",
      "only showing top 20 rows\n",
      "\n"
     ]
    }
   ],
   "source": [
    "df_read = spark.read.csv(\n",
    "    f'hdfs://Arsylia:9000/{path}/store.csv', \n",
    "    header=True, \n",
    "    inferSchema=True)\n",
    "df_read.show()"
   ]
  },
  {
   "cell_type": "markdown",
   "id": "70649430-4cc5-4769-b94e-dfe2da08c1de",
   "metadata": {},
   "source": [
    "### Silver"
   ]
  },
  {
   "cell_type": "code",
   "execution_count": 124,
   "id": "d7d10d07-9e43-42f8-9001-5ea17216de22",
   "metadata": {},
   "outputs": [
    {
     "name": "stdout",
     "output_type": "stream",
     "text": [
      "root\n",
      " |-- BusinessEntityID: integer (nullable = true)\n",
      " |-- Name: string (nullable = true)\n",
      " |-- SalesPersonID: integer (nullable = true)\n",
      " |-- Demographics: string (nullable = true)\n",
      " |-- rowguid: string (nullable = true)\n",
      " |-- ModifiedDate: timestamp (nullable = true)\n",
      "\n"
     ]
    }
   ],
   "source": [
    "# Create new table\n",
    "store_df = spark.read.jdbc(\n",
    "    url=jdbc_url,\n",
    "    table='Sales.Store',\n",
    "    properties=connection_properties\n",
    ")\n",
    "\n",
    "# Write new table\n",
    "try:\n",
    "    store_df.write.jdbc(\n",
    "        url=jdbc_url,\n",
    "        table='SalesProcessing.StoreProcessing',\n",
    "        mode='overwrite',\n",
    "        properties=connection_properties\n",
    "    )\n",
    "except Exception as e:\n",
    "    print(f\"Error Occured: {e}\")\n",
    "\n",
    "df_silver = spark.read.jdbc(\n",
    "    url=jdbc_url,\n",
    "    table='SalesProcessing.StoreProcessing',\n",
    "    properties=connection_properties\n",
    ")\n",
    "df_silver.printSchema()"
   ]
  },
  {
   "cell_type": "code",
   "execution_count": 125,
   "id": "f35090aa-245e-4645-82ac-97d8707661c0",
   "metadata": {},
   "outputs": [
    {
     "name": "stdout",
     "output_type": "stream",
     "text": [
      "+--------------------------------------------------------------------------------------------------------------------------------------------------------------------------------------------------------------------------------------------------------------------------------------------------------------------------------------------------------------------------------------------------------------------------------+\n",
      "|Demographics                                                                                                                                                                                                                                                                                                                                                                                                                    |\n",
      "+--------------------------------------------------------------------------------------------------------------------------------------------------------------------------------------------------------------------------------------------------------------------------------------------------------------------------------------------------------------------------------------------------------------------------------+\n",
      "|<StoreSurvey xmlns=\"http://schemas.microsoft.com/sqlserver/2004/07/adventure-works/StoreSurvey\"><AnnualSales>800000</AnnualSales><AnnualRevenue>80000</AnnualRevenue><BankName>United Security</BankName><BusinessType>BM</BusinessType><YearOpened>1996</YearOpened><Specialty>Mountain</Specialty><SquareFeet>21000</SquareFeet><Brands>2</Brands><Internet>ISDN</Internet><NumberEmployees>13</NumberEmployees></StoreSurvey>|\n",
      "+--------------------------------------------------------------------------------------------------------------------------------------------------------------------------------------------------------------------------------------------------------------------------------------------------------------------------------------------------------------------------------------------------------------------------------+\n",
      "only showing top 1 row\n",
      "\n"
     ]
    }
   ],
   "source": [
    "demo = df_silver.select('Demographics')\n",
    "demo.show(truncate=False, n=1)"
   ]
  },
  {
   "cell_type": "code",
   "execution_count": 126,
   "id": "f1e91d77-f7e0-403d-a738-5de6ecd714af",
   "metadata": {},
   "outputs": [
    {
     "name": "stdout",
     "output_type": "stream",
     "text": [
      "Success\n"
     ]
    }
   ],
   "source": [
    "add_columns_query = \"\"\"\n",
    "ALTER TABLE SalesProcessing.StoreProcessing\n",
    "ADD AnnualSales INT,\n",
    "    AnnualRevenue INT,\n",
    "    BankName NVARCHAR(100),\n",
    "    BusinessType NVARCHAR(20),\n",
    "    YearOpened INT,\n",
    "    Specialty NVARCHAR(30),\n",
    "    Area INT,\n",
    "    Brands NVARCHAR(30),\n",
    "    Internet NVARCHAR(30),\n",
    "    NumberEmployees INT;\n",
    "\"\"\"\n",
    "\n",
    "try:\n",
    "    cursor = conn.cursor()\n",
    "    cursor.execute(add_columns_query)\n",
    "    conn.commit()\n",
    "    print('Success')\n",
    "except Exception as e:\n",
    "    print(f\"Error Occured: {e}\")\n",
    "\n",
    "finally:\n",
    "    cursor.close()"
   ]
  },
  {
   "cell_type": "code",
   "execution_count": 127,
   "id": "f2884c18-abf3-4112-b7d1-d0f0b2549fba",
   "metadata": {},
   "outputs": [
    {
     "name": "stderr",
     "output_type": "stream",
     "text": [
      "/tmp/ipykernel_4832/2356456263.py:26: UserWarning: pandas only supports SQLAlchemy connectable (engine/connection) or database string URI or sqlite3 DBAPI2 connection. Other DBAPI2 objects are not tested. Please consider using SQLAlchemy.\n",
      "  df_pandas = pd.read_sql(query, conn)\n"
     ]
    },
    {
     "name": "stdout",
     "output_type": "stream",
     "text": [
      "+----------------+--------------------+-------------+--------------------+--------------------+-----------+-------------+--------------------+------------+----------+---------+-----+------+--------+---------------+\n",
      "|BusinessEntityID|                Name|SalesPersonID|             rowguid|        ModifiedDate|AnnualSales|AnnualRevenue|            BankName|BusinessType|YearOpened|Specialty| Area|Brands|Internet|NumberEmployees|\n",
      "+----------------+--------------------+-------------+--------------------+--------------------+-----------+-------------+--------------------+------------+----------+---------+-----+------+--------+---------------+\n",
      "|             292|Next-Door Bike Store|          279|A22517E3-848D-4EB...|2014-09-12 11:15:...|     800000|        80000|     United Security|          BM|      1996| Mountain|21000|     2|    ISDN|             13|\n",
      "|             294|Professional Sale...|          276|B50CA50B-C601-4A1...|2014-09-12 11:15:...|     800000|        80000|  International Bank|          BM|      1991|  Touring|18000|    4+|      T1|             14|\n",
      "|             296|      Riders Company|          277|337C3688-1339-4E1...|2014-09-12 11:15:...|     800000|        80000|Primary Bank & Re...|          BM|      1999|     Road|21000|     2|     DSL|             15|\n",
      "|             298|  The Bike Mechanics|          275|7894F278-F0C8-4D1...|2014-09-12 11:15:...|     800000|        80000|International Sec...|          BM|      1994| Mountain|18000|     2|     DSL|             16|\n",
      "|             300|   Nationwide Supply|          286|C3FC9705-A8C4-4F3...|2014-09-12 11:15:...|     800000|        80000|       Guardian Bank|          BM|      1987|  Touring|21000|    4+|     DSL|             17|\n",
      "|             302|Area Bike Accesso...|          281|368BE6DD-30E5-49B...|2014-09-12 11:15:...|     300000|        30000|  International Bank|          BM|      1982|     Road| 9000|    AW|      T2|              8|\n",
      "|             304|Bicycle Accessori...|          283|35F40636-5105-49D...|2014-09-12 11:15:...|     300000|        30000|Primary Bank & Re...|          BM|      1990| Mountain| 7000|    AW|      T1|              9|\n",
      "|             306|Clamps & Brackets...|          275|64D06BFC-D060-405...|2014-09-12 11:15:...|     800000|        80000|International Sec...|          BM|      1985| Mountain|17000|    4+|     DSL|             10|\n",
      "|             308|Valley Bicycle Sp...|          277|59386B0C-652E-466...|2014-09-12 11:15:...|    3000000|       300000|Primary Bank & Re...|          OS|      1979| Mountain|72000|    4+|     DSL|             66|\n",
      "|             310|   New Bikes Company|          279|47E4B6BD-5CD1-45A...|2014-09-12 11:15:...|    1500000|       150000|International Sec...|          OS|      1974|     Road|39000|    4+|      T1|             40|\n",
      "|             312|Vinyl and Plastic...|          282|DC610525-E373-49B...|2014-09-12 11:15:...|    1500000|       150000|Primary Bank & Re...|          OS|      1980| Mountain|41000|    4+|     DSL|             43|\n",
      "|             314|Top of the Line B...|          288|E290E93F-A980-4BA...|2014-09-12 11:15:...|    1500000|       150000|  International Bank|          OS|      1986|  Touring|40000|    4+|     DSL|             46|\n",
      "|             316|  Fun Toys and Bikes|          281|6CDCF941-4192-49C...|2014-09-12 11:15:...|     300000|        30000|Primary Bank & Re...|          BM|      1973|  Touring| 6000|     2|     DSL|              2|\n",
      "|             318|        Great Bikes |          283|956FBC35-5E0D-417...|2014-09-12 11:15:...|     300000|        30000|International Sec...|          BM|      1981| Mountain|10000|    4+|      T3|              3|\n",
      "|             320|Metropolitan Sale...|          275|0CB4FEF2-5047-40F...|2014-09-12 11:15:...|     300000|        30000|       Guardian Bank|          BM|      1976|     Road| 6000|    AW|      T1|              4|\n",
      "|             322|   Irregulars Outlet|          288|CDE66279-83D8-434...|2014-09-12 11:15:...|     300000|        30000|Primary Internati...|          BM|      1984| Mountain| 7000|    AW|     DSL|              5|\n",
      "|             324|    Valley Toy Store|          282|6A1BEA56-DCB7-45C...|2014-09-12 11:15:...|     300000|        30000|    Reserve Security|          BM|      1979| Mountain| 9000|     2|      T1|              6|\n",
      "|             326|Worthwhile Activi...|          279|BAD63717-99BD-458...|2014-09-12 11:15:...|     300000|        30000|     United Security|          BM|      1987| Mountain| 8000|     2|     DSL|              7|\n",
      "|             328|       Purchase Mart|          275|A3140349-57A3-46A...|2014-09-12 11:15:...|    1500000|       150000|     United Security|          OS|      1992|  Touring|38000|     3|    ISDN|             49|\n",
      "|             330|Major Sport Suppl...|          283|3B5F8572-43B0-42F...|2014-09-12 11:15:...|    3000000|       300000|    Reserve Security|          OS|      1998| Mountain|68000|     3|     DSL|             52|\n",
      "+----------------+--------------------+-------------+--------------------+--------------------+-----------+-------------+--------------------+------------+----------+---------+-----+------+--------+---------------+\n",
      "only showing top 20 rows\n",
      "\n"
     ]
    }
   ],
   "source": [
    "query = \"\"\"\n",
    "WITH XMLNAMESPACES (  \n",
    "  'http://schemas.microsoft.com/sqlserver/2004/07/adventure-works/StoreSurvey' AS ns  \n",
    ")  \n",
    "SELECT \n",
    "  BusinessEntityID,\n",
    "  Name, \n",
    "  SalesPersonID,\n",
    "  rowguid,\n",
    "  ModifiedDate,\n",
    "  Demographics.value('(/ns:StoreSurvey/ns:AnnualSales)[1]', 'INT') as AnnualSales,\n",
    "  Demographics.value('(/ns:StoreSurvey/ns:AnnualRevenue)[1]', 'INT') as AnnualRevenue,\n",
    "  Demographics.value('(/ns:StoreSurvey/ns:BankName)[1]', 'NVARCHAR(100)') as BankName,\n",
    "  Demographics.value('(/ns:StoreSurvey/ns:BusinessType)[1]', 'NVARCHAR(20)') as BusinessType,\n",
    "  Demographics.value('(/ns:StoreSurvey/ns:YearOpened)[1]', 'INT') as YearOpened,\n",
    "  Demographics.value('(/ns:StoreSurvey/ns:Specialty)[1]', 'NVARCHAR(30)') as Specialty,\n",
    "  Demographics.value('(/ns:StoreSurvey/ns:SquareFeet)[1]', 'INT') as Area,\n",
    "  Demographics.value('(/ns:StoreSurvey/ns:Brands)[1]', 'NVARCHAR(30)') as Brands,\n",
    "  Demographics.value('(/ns:StoreSurvey/ns:Internet)[1]', 'NVARCHAR(30)') as Internet,\n",
    "  Demographics.value('(/ns:StoreSurvey/ns:NumberEmployees)[1]', 'INT') as NumberEmployees\n",
    "FROM \n",
    "  Sales.Store\n",
    "\"\"\"\n",
    "\n",
    "# Eksekusi query dengan pyodbc dan simpan hasilnya ke DataFrame pandas\n",
    "df_pandas = pd.read_sql(query, conn)\n",
    "\n",
    "# Konversi dari pandas ke PySpark DataFrame\n",
    "df_spark = spark.createDataFrame(df_pandas)\n",
    "\n",
    "# Tampilkan hasilnya di PySpark\n",
    "df_spark.show()"
   ]
  },
  {
   "cell_type": "code",
   "execution_count": 132,
   "id": "53439f21-7bc3-46b3-9ece-689496d0c198",
   "metadata": {},
   "outputs": [
    {
     "name": "stdout",
     "output_type": "stream",
     "text": [
      "+----------------+--------------------+-------------+--------------------+--------------------+-----------+-------------+--------------------+------------+----------+---------+-----+------+--------+---------------+\n",
      "|BusinessEntityID|                Name|SalesPersonID|             rowguid|        ModifiedDate|AnnualSales|AnnualRevenue|            BankName|BusinessType|YearOpened|Specialty| Area|Brands|Internet|NumberEmployees|\n",
      "+----------------+--------------------+-------------+--------------------+--------------------+-----------+-------------+--------------------+------------+----------+---------+-----+------+--------+---------------+\n",
      "|             292|Next-Door Bike Store|          279|A22517E3-848D-4EB...|2014-09-12 11:15:...|     800000|        80000|     United Security|          BM|      1996| Mountain|21000|     2|    ISDN|             13|\n",
      "|             294|Professional Sale...|          276|B50CA50B-C601-4A1...|2014-09-12 11:15:...|     800000|        80000|  International Bank|          BM|      1991|  Touring|18000|    4+|      T1|             14|\n",
      "|             296|      Riders Company|          277|337C3688-1339-4E1...|2014-09-12 11:15:...|     800000|        80000|Primary Bank & Re...|          BM|      1999|     Road|21000|     2|     DSL|             15|\n",
      "|             298|  The Bike Mechanics|          275|7894F278-F0C8-4D1...|2014-09-12 11:15:...|     800000|        80000|International Sec...|          BM|      1994| Mountain|18000|     2|     DSL|             16|\n",
      "|             300|   Nationwide Supply|          286|C3FC9705-A8C4-4F3...|2014-09-12 11:15:...|     800000|        80000|       Guardian Bank|          BM|      1987|  Touring|21000|    4+|     DSL|             17|\n",
      "+----------------+--------------------+-------------+--------------------+--------------------+-----------+-------------+--------------------+------------+----------+---------+-----+------+--------+---------------+\n",
      "only showing top 5 rows\n",
      "\n"
     ]
    }
   ],
   "source": [
    "try:\n",
    "    df_spark.write.jdbc(\n",
    "    url=jdbc_url,\n",
    "    table='SalesProcessing.StoreProcessing',\n",
    "    mode='overwrite',  \n",
    "    properties=connection_properties\n",
    "    )\n",
    "except Exception as e:\n",
    "    print(f\"Error Occured: {e}\")\n",
    "\n",
    "update_df_silver = df_spark\n",
    "update_df_silver.show(5)"
   ]
  },
  {
   "cell_type": "code",
   "execution_count": 133,
   "id": "3a645de4-a774-494a-9a5e-de977529d761",
   "metadata": {},
   "outputs": [
    {
     "data": {
      "text/html": [
       "<div>\n",
       "<style scoped>\n",
       "    .dataframe tbody tr th:only-of-type {\n",
       "        vertical-align: middle;\n",
       "    }\n",
       "\n",
       "    .dataframe tbody tr th {\n",
       "        vertical-align: top;\n",
       "    }\n",
       "\n",
       "    .dataframe thead th {\n",
       "        text-align: right;\n",
       "    }\n",
       "</style>\n",
       "<table border=\"1\" class=\"dataframe\">\n",
       "  <thead>\n",
       "    <tr style=\"text-align: right;\">\n",
       "      <th></th>\n",
       "      <th>BusinessEntityID</th>\n",
       "      <th>Name</th>\n",
       "      <th>SalesPersonID</th>\n",
       "      <th>rowguid</th>\n",
       "      <th>ModifiedDate</th>\n",
       "      <th>AnnualSales</th>\n",
       "      <th>AnnualRevenue</th>\n",
       "      <th>BankName</th>\n",
       "      <th>BusinessType</th>\n",
       "      <th>YearOpened</th>\n",
       "      <th>Specialty</th>\n",
       "      <th>Area</th>\n",
       "      <th>Brands</th>\n",
       "      <th>Internet</th>\n",
       "      <th>NumberEmployees</th>\n",
       "    </tr>\n",
       "  </thead>\n",
       "  <tbody>\n",
       "    <tr>\n",
       "      <th>0</th>\n",
       "      <td>292</td>\n",
       "      <td>Next-Door Bike Store</td>\n",
       "      <td>279</td>\n",
       "      <td>A22517E3-848D-4EBE-B9D9-7437F3432304</td>\n",
       "      <td>2014-09-12 11:15:07.497</td>\n",
       "      <td>800000</td>\n",
       "      <td>80000</td>\n",
       "      <td>United Security</td>\n",
       "      <td>BM</td>\n",
       "      <td>1996</td>\n",
       "      <td>Mountain</td>\n",
       "      <td>21000</td>\n",
       "      <td>2</td>\n",
       "      <td>ISDN</td>\n",
       "      <td>13</td>\n",
       "    </tr>\n",
       "    <tr>\n",
       "      <th>1</th>\n",
       "      <td>294</td>\n",
       "      <td>Professional Sales and Service</td>\n",
       "      <td>276</td>\n",
       "      <td>B50CA50B-C601-4A13-B07E-2C63862D71B4</td>\n",
       "      <td>2014-09-12 11:15:07.497</td>\n",
       "      <td>800000</td>\n",
       "      <td>80000</td>\n",
       "      <td>International Bank</td>\n",
       "      <td>BM</td>\n",
       "      <td>1991</td>\n",
       "      <td>Touring</td>\n",
       "      <td>18000</td>\n",
       "      <td>4+</td>\n",
       "      <td>T1</td>\n",
       "      <td>14</td>\n",
       "    </tr>\n",
       "    <tr>\n",
       "      <th>2</th>\n",
       "      <td>296</td>\n",
       "      <td>Riders Company</td>\n",
       "      <td>277</td>\n",
       "      <td>337C3688-1339-4E1A-A08A-B54B23566E49</td>\n",
       "      <td>2014-09-12 11:15:07.497</td>\n",
       "      <td>800000</td>\n",
       "      <td>80000</td>\n",
       "      <td>Primary Bank &amp; Reserve</td>\n",
       "      <td>BM</td>\n",
       "      <td>1999</td>\n",
       "      <td>Road</td>\n",
       "      <td>21000</td>\n",
       "      <td>2</td>\n",
       "      <td>DSL</td>\n",
       "      <td>15</td>\n",
       "    </tr>\n",
       "    <tr>\n",
       "      <th>3</th>\n",
       "      <td>298</td>\n",
       "      <td>The Bike Mechanics</td>\n",
       "      <td>275</td>\n",
       "      <td>7894F278-F0C8-4D16-BD75-213FDBF13023</td>\n",
       "      <td>2014-09-12 11:15:07.497</td>\n",
       "      <td>800000</td>\n",
       "      <td>80000</td>\n",
       "      <td>International Security</td>\n",
       "      <td>BM</td>\n",
       "      <td>1994</td>\n",
       "      <td>Mountain</td>\n",
       "      <td>18000</td>\n",
       "      <td>2</td>\n",
       "      <td>DSL</td>\n",
       "      <td>16</td>\n",
       "    </tr>\n",
       "    <tr>\n",
       "      <th>4</th>\n",
       "      <td>300</td>\n",
       "      <td>Nationwide Supply</td>\n",
       "      <td>286</td>\n",
       "      <td>C3FC9705-A8C4-4F3A-9550-EB2FA4B7B64D</td>\n",
       "      <td>2014-09-12 11:15:07.497</td>\n",
       "      <td>800000</td>\n",
       "      <td>80000</td>\n",
       "      <td>Guardian Bank</td>\n",
       "      <td>BM</td>\n",
       "      <td>1987</td>\n",
       "      <td>Touring</td>\n",
       "      <td>21000</td>\n",
       "      <td>4+</td>\n",
       "      <td>DSL</td>\n",
       "      <td>17</td>\n",
       "    </tr>\n",
       "  </tbody>\n",
       "</table>\n",
       "</div>"
      ],
      "text/plain": [
       "   BusinessEntityID                            Name  SalesPersonID  \\\n",
       "0               292            Next-Door Bike Store            279   \n",
       "1               294  Professional Sales and Service            276   \n",
       "2               296                  Riders Company            277   \n",
       "3               298              The Bike Mechanics            275   \n",
       "4               300               Nationwide Supply            286   \n",
       "\n",
       "                                rowguid            ModifiedDate  AnnualSales  \\\n",
       "0  A22517E3-848D-4EBE-B9D9-7437F3432304 2014-09-12 11:15:07.497       800000   \n",
       "1  B50CA50B-C601-4A13-B07E-2C63862D71B4 2014-09-12 11:15:07.497       800000   \n",
       "2  337C3688-1339-4E1A-A08A-B54B23566E49 2014-09-12 11:15:07.497       800000   \n",
       "3  7894F278-F0C8-4D16-BD75-213FDBF13023 2014-09-12 11:15:07.497       800000   \n",
       "4  C3FC9705-A8C4-4F3A-9550-EB2FA4B7B64D 2014-09-12 11:15:07.497       800000   \n",
       "\n",
       "   AnnualRevenue                BankName BusinessType  YearOpened Specialty  \\\n",
       "0          80000         United Security           BM        1996  Mountain   \n",
       "1          80000      International Bank           BM        1991   Touring   \n",
       "2          80000  Primary Bank & Reserve           BM        1999      Road   \n",
       "3          80000  International Security           BM        1994  Mountain   \n",
       "4          80000           Guardian Bank           BM        1987   Touring   \n",
       "\n",
       "    Area Brands Internet  NumberEmployees  \n",
       "0  21000      2     ISDN               13  \n",
       "1  18000     4+       T1               14  \n",
       "2  21000      2      DSL               15  \n",
       "3  18000      2      DSL               16  \n",
       "4  21000     4+      DSL               17  "
      ]
     },
     "execution_count": 133,
     "metadata": {},
     "output_type": "execute_result"
    }
   ],
   "source": [
    "import pandas as pd\n",
    "df_silver_pandas = update_df_silver.toPandas()\n",
    "pd.set_option('display.max_rows', None)\n",
    "df_silver_pandas.head()"
   ]
  },
  {
   "cell_type": "code",
   "execution_count": 135,
   "id": "8b78fe5c-24e5-4647-900d-2660e63f962e",
   "metadata": {},
   "outputs": [
    {
     "data": {
      "text/plain": [
       "BusinessEntityID    0\n",
       "Name                0\n",
       "SalesPersonID       0\n",
       "rowguid             0\n",
       "ModifiedDate        0\n",
       "AnnualSales         0\n",
       "AnnualRevenue       0\n",
       "BankName            0\n",
       "BusinessType        0\n",
       "YearOpened          0\n",
       "Specialty           0\n",
       "Area                0\n",
       "Brands              0\n",
       "Internet            0\n",
       "NumberEmployees     0\n",
       "dtype: int64"
      ]
     },
     "execution_count": 135,
     "metadata": {},
     "output_type": "execute_result"
    }
   ],
   "source": [
    "df_silver_pandas.isnull().sum()"
   ]
  },
  {
   "cell_type": "code",
   "execution_count": null,
   "id": "8374fd1a-34a5-4212-a62b-63bed39b81f1",
   "metadata": {},
   "outputs": [],
   "source": []
  }
 ],
 "metadata": {
  "kernelspec": {
   "display_name": "Project",
   "language": "python",
   "name": "project"
  },
  "language_info": {
   "codemirror_mode": {
    "name": "ipython",
    "version": 3
   },
   "file_extension": ".py",
   "mimetype": "text/x-python",
   "name": "python",
   "nbconvert_exporter": "python",
   "pygments_lexer": "ipython3",
   "version": "3.12.5"
  }
 },
 "nbformat": 4,
 "nbformat_minor": 5
}
