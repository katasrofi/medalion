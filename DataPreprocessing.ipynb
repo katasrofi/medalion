{
 "cells": [
  {
   "cell_type": "code",
   "execution_count": 1,
   "id": "838b3a0e-05af-4ca3-bcf1-48a9974d7d35",
   "metadata": {},
   "outputs": [],
   "source": [
    "import pandas as pd\n",
    "import pyodbc\n",
    "from dotenv import load_dotenv\n",
    "import os"
   ]
  },
  {
   "cell_type": "code",
   "execution_count": 2,
   "id": "7ba704ad-6ad7-4311-b905-363f3b25ca48",
   "metadata": {},
   "outputs": [
    {
     "name": "stdout",
     "output_type": "stream",
     "text": [
      "Error Occured: ('HYT00', '[HYT00] [Microsoft][ODBC Driver 17 for SQL Server]Login timeout expired (0) (SQLDriverConnect)')\n"
     ]
    }
   ],
   "source": [
    "load_dotenv()\n",
    "\n",
    "# Load the configuration\n",
    "server=os.getenv('DB_SERVER')\n",
    "database=os.getenv('DB_NAME')\n",
    "user=os.getenv('DB_USER')\n",
    "password=os.getenv('DB_PASSWORD')\n",
    "\n",
    "try:\n",
    "    conn = pyodbc.connect(f'DRIVER={{ODBC Driver 17 for SQL Server}};'\n",
    "                          f'SERVER={server}, 1433;' \n",
    "                          f'DATABASE={database};' \n",
    "                          f'UID={user};' \n",
    "                          f'PWD={password};'\n",
    "                          f'TrustServerCertificate=yes;')\n",
    "    cursor = conn.cursor()\n",
    "    print(\"Success\")\n",
    "except Exception as e:\n",
    "    print(f'Error Occured: {e}')"
   ]
  },
  {
   "cell_type": "code",
   "execution_count": null,
   "id": "5e5b4f56-14ff-4448-91a6-eddf6cc3389b",
   "metadata": {},
   "outputs": [],
   "source": []
  }
 ],
 "metadata": {
  "kernelspec": {
   "display_name": "Project",
   "language": "python",
   "name": "project"
  },
  "language_info": {
   "codemirror_mode": {
    "name": "ipython",
    "version": 3
   },
   "file_extension": ".py",
   "mimetype": "text/x-python",
   "name": "python",
   "nbconvert_exporter": "python",
   "pygments_lexer": "ipython3",
   "version": "3.12.5"
  }
 },
 "nbformat": 4,
 "nbformat_minor": 5
}
